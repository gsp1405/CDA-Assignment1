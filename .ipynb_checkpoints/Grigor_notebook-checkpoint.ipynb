{
 "cells": [
  {
   "cell_type": "code",
   "execution_count": 24,
   "metadata": {},
   "outputs": [],
   "source": [
    "# Imports\n",
    "import numpy as np\n",
    "import pandas as pd\n",
    "from sklearn.linear_model import LinearRegression\n",
    "from sklearn.feature_selection import RFE\n",
    "import matplotlib.pyplot as plt\n",
    "import seaborn as sns\n"
   ]
  },
  {
   "cell_type": "code",
   "execution_count": 8,
   "metadata": {
    "scrolled": false
   },
   "outputs": [
    {
     "name": "stdout",
     "output_type": "stream",
     "text": [
      "         ScheduleTime Airline  FlightNumber Destination AircraftType  \\\n",
      "0 2021-01-01 06:35:00      IA           874         DEN          73W   \n",
      "1 2021-01-01 10:35:00      JZ           818         YHM          AT7   \n",
      "2 2021-01-01 12:05:00      IA           876         DEN          73W   \n",
      "3 2021-01-01 13:20:00      CN           514         EST          AT7   \n",
      "4 2021-01-01 14:20:00      LJ          3140         DEN          32A   \n",
      "\n",
      "  FlightType Sector  SeatCapacity  LoadFactor  \n",
      "0          J     US           142    0.408451  \n",
      "1          J     CA            74    0.189189  \n",
      "2          J     US           142    0.570423  \n",
      "3          J     US            72    0.333333  \n",
      "4          J     US           186    0.204301  \n"
     ]
    }
   ],
   "source": [
    "# Load data\n",
    "df = pd.read_excel(\"data/Realized Schedule 20210101-20220208.xlsx\")\n",
    "# Remove rows with missing values\n",
    "df.dropna(inplace=True)\n",
    "\n",
    "print(df.head())"
   ]
  },
  {
   "cell_type": "markdown",
   "metadata": {},
   "source": [
    "### Analysis of the attributes"
   ]
  },
  {
   "cell_type": "code",
   "execution_count": 9,
   "metadata": {},
   "outputs": [
    {
     "name": "stdout",
     "output_type": "stream",
     "text": [
      "Num airlines : 95\n",
      "Num flight num : 807\n",
      "Num aircraft type : 56\n",
      "Num flight type : 3\n",
      "Num sectors : 12\n",
      "Num seat capacities : 132\n",
      "Num destinations : 230\n"
     ]
    }
   ],
   "source": [
    "airlines = df['Airline'].unique()\n",
    "print(\"Num airlines :\", len(airlines))\n",
    "\n",
    "flightnum = df['FlightNumber'].unique()\n",
    "print(\"Num flight num :\", len(flightnum))\n",
    "\n",
    "aircraft = df['AircraftType'].unique()\n",
    "print(\"Num aircraft type :\", len(aircraft))\n",
    "\n",
    "flighttype = df['FlightType'].unique()\n",
    "print(\"Num flight type :\", len(flighttype))\n",
    "\n",
    "sectors = df['Sector'].unique()\n",
    "print(\"Num sectors :\", len(sectors))\n",
    "\n",
    "seatcap = df['SeatCapacity'].unique()\n",
    "print(\"Num seat capacities :\", len(seatcap))\n",
    "\n",
    "dest = df['Destination'].unique()\n",
    "print(\"Num destinations :\", len(dest))"
   ]
  },
  {
   "cell_type": "code",
   "execution_count": 18,
   "metadata": {},
   "outputs": [
    {
     "name": "stdout",
     "output_type": "stream",
     "text": [
      "['J' 'C' 'G']\n",
      "             ScheduleTime Airline  FlightNumber Destination AircraftType  \\\n",
      "35822 2022-02-06 19:30:00      OF           575         OTH          32Q   \n",
      "\n",
      "      FlightType Sector  SeatCapacity  LoadFactor  \n",
      "35822          G     US           160     0.45625  \n",
      "We have one Flight with incorrect flight type\n"
     ]
    }
   ],
   "source": [
    "print(flighttype)\n",
    "print(df[df['FlightType']=='G'])\n",
    "print(\"We have one Flight with incorrect flight type\")"
   ]
  },
  {
   "cell_type": "code",
   "execution_count": 27,
   "metadata": {
    "scrolled": false
   },
   "outputs": [
    {
     "data": {
      "image/png": "[encoded data removed]",
      "text/plain": [
       "<Figure size 432x288 with 1 Axes>"
      ]
     },
     "metadata": {
      "needs_background": "light"
     },
     "output_type": "display_data"
    }
   ],
   "source": [
    "count = df['LoadFactor'].count()\n",
    "bn = int(1 + 3.322*np.log(count))\n",
    "\n",
    "plt.hist(df['LoadFactor'], bins = bn)\n",
    "plt.xticks(rotation=45)\n",
    "plt.set_title(\"Histogram of load factors over all flights\")\n",
    "plt.show()"
   ]
  },
  {
   "cell_type": "code",
   "execution_count": 30,
   "metadata": {},
   "outputs": [
    {
     "name": "stdout",
     "output_type": "stream",
     "text": [
      "Index(['SeatCapacity', 'Year', 'Month', 'Week', 'Day', 'Hour', 'AIR_AY',\n",
      "       'AIR_BJ', 'AIR_BT', 'AIR_BZ',\n",
      "       ...\n",
      "       'SECT_QA', 'SECT_SG', 'SECT_US', 'Monday', 'Tuesday', 'Wednesday',\n",
      "       'Thursday', 'Friday', 'Saturday', 'Sunday'],\n",
      "      dtype='object', length=352)\n",
      "(36767, 352)\n"
     ]
    }
   ],
   "source": [
    "# Exclude the flight with a wrong flight type\n",
    "df = df[df.FlightType != 'G']\n",
    "\n",
    "# Extract features and targets\n",
    "X = df.drop([\"LoadFactor\"], axis=1)\n",
    "y = df.LoadFactor\n",
    "\n",
    "\n",
    "#Convert schedule time to different columns\n",
    "# Include month, year, day and weekday in the dataset\n",
    "X = pd.concat([X, pd.to_datetime(X.ScheduleTime).dt.year.rename(\"Year\")], axis=1)\n",
    "X = pd.concat([X, pd.to_datetime(X.ScheduleTime).dt.month.rename(\"Month\")], axis=1)\n",
    "X = pd.concat([X, pd.to_datetime(X.ScheduleTime).dt.week.rename(\"Week\")], axis=1)\n",
    "X = pd.concat([X, pd.to_datetime(X.ScheduleTime).dt.day.rename(\"Day\")], axis=1)\n",
    "X = pd.concat([X, pd.to_datetime(X.ScheduleTime).dt.weekday.rename(\"Weekday\")], axis=1)\n",
    "X = pd.concat([X, pd.to_datetime(X.ScheduleTime).dt.hour.rename(\"Hour\")], axis=1)\n",
    "\n",
    "# include dummy variables for categorical features\n",
    "cols = [\"Airline\", \"Destination\", \"FlightType\", \"Sector\"]\n",
    "col_prefix = [\"AIR\", \"DEST\", \"FLT\", \"SECT\"]\n",
    "weekdays = [\"Monday\", \"Tuesday\", \"Wednesday\", \"Thursday\", \"Friday\", \"Saturday\", \"Sunday\"]\n",
    "cols_to_drop = [\"FlightNumber\", \"AircraftType\", \"ScheduleTime\", \"Weekday\"]\n",
    "\n",
    "for i, col in enumerate(cols):\n",
    "    X = pd.concat([X, pd.get_dummies(X[col], prefix=col_prefix[i])], axis=1)\n",
    "\n",
    "weekday_df = pd.get_dummies(X.Weekday)\n",
    "weekday_df.columns = weekdays\n",
    "\n",
    "X = pd.concat([X, weekday_df], axis=1)\n",
    "\n",
    "X.drop(cols, axis=1, inplace=True)\n",
    "X.drop(cols_to_drop, axis=1, inplace=True)\n",
    "\n",
    "print(X.columns)\n",
    "print(X.shape)\n",
    "\n"
   ]
  },
  {
   "cell_type": "code",
   "execution_count": null,
   "metadata": {},
   "outputs": [],
   "source": []
  },
  {
   "cell_type": "code",
   "execution_count": 10,
   "metadata": {},
   "outputs": [
    {
     "ename": "KeyboardInterrupt",
     "evalue": "",
     "output_type": "error",
     "traceback": [
      "\u001b[0;31m---------------------------------------------------------------------------\u001b[0m",
      "\u001b[0;31mKeyboardInterrupt\u001b[0m                         Traceback (most recent call last)",
      "\u001b[0;32m<ipython-input-10-8442a8bf9427>\u001b[0m in \u001b[0;36m<module>\u001b[0;34m\u001b[0m\n\u001b[1;32m      4\u001b[0m \u001b[0mmodel\u001b[0m\u001b[0;34m.\u001b[0m\u001b[0mfit\u001b[0m\u001b[0;34m(\u001b[0m\u001b[0mX\u001b[0m\u001b[0;34m,\u001b[0m \u001b[0my\u001b[0m\u001b[0;34m)\u001b[0m\u001b[0;34m\u001b[0m\u001b[0;34m\u001b[0m\u001b[0m\n\u001b[1;32m      5\u001b[0m \u001b[0mf_selector\u001b[0m \u001b[0;34m=\u001b[0m \u001b[0mRFE\u001b[0m\u001b[0;34m(\u001b[0m\u001b[0mmodel\u001b[0m\u001b[0;34m,\u001b[0m \u001b[0mn_features_to_select\u001b[0m\u001b[0;34m=\u001b[0m\u001b[0;36m0.2\u001b[0m\u001b[0;34m,\u001b[0m \u001b[0mstep\u001b[0m\u001b[0;34m=\u001b[0m\u001b[0;36m1\u001b[0m\u001b[0;34m)\u001b[0m\u001b[0;34m\u001b[0m\u001b[0;34m\u001b[0m\u001b[0m\n\u001b[0;32m----> 6\u001b[0;31m \u001b[0mf_selector\u001b[0m\u001b[0;34m.\u001b[0m\u001b[0mfit\u001b[0m\u001b[0;34m(\u001b[0m\u001b[0mX\u001b[0m\u001b[0;34m,\u001b[0m \u001b[0my\u001b[0m\u001b[0;34m)\u001b[0m\u001b[0;34m\u001b[0m\u001b[0;34m\u001b[0m\u001b[0m\n\u001b[0m\u001b[1;32m      7\u001b[0m \u001b[0mprint\u001b[0m\u001b[0;34m(\u001b[0m\u001b[0mf_selector\u001b[0m\u001b[0;34m.\u001b[0m\u001b[0msupport_\u001b[0m\u001b[0;34m)\u001b[0m\u001b[0;34m\u001b[0m\u001b[0;34m\u001b[0m\u001b[0m\n",
      "\u001b[0;32m/opt/anaconda3/lib/python3.8/site-packages/sklearn/feature_selection/_rfe.py\u001b[0m in \u001b[0;36mfit\u001b[0;34m(self, X, y)\u001b[0m\n\u001b[1;32m    149\u001b[0m             \u001b[0mThe\u001b[0m \u001b[0mtarget\u001b[0m \u001b[0mvalues\u001b[0m\u001b[0;34m.\u001b[0m\u001b[0;34m\u001b[0m\u001b[0;34m\u001b[0m\u001b[0m\n\u001b[1;32m    150\u001b[0m         \"\"\"\n\u001b[0;32m--> 151\u001b[0;31m         \u001b[0;32mreturn\u001b[0m \u001b[0mself\u001b[0m\u001b[0;34m.\u001b[0m\u001b[0m_fit\u001b[0m\u001b[0;34m(\u001b[0m\u001b[0mX\u001b[0m\u001b[0;34m,\u001b[0m \u001b[0my\u001b[0m\u001b[0;34m)\u001b[0m\u001b[0;34m\u001b[0m\u001b[0;34m\u001b[0m\u001b[0m\n\u001b[0m\u001b[1;32m    152\u001b[0m \u001b[0;34m\u001b[0m\u001b[0m\n\u001b[1;32m    153\u001b[0m     \u001b[0;32mdef\u001b[0m \u001b[0m_fit\u001b[0m\u001b[0;34m(\u001b[0m\u001b[0mself\u001b[0m\u001b[0;34m,\u001b[0m \u001b[0mX\u001b[0m\u001b[0;34m,\u001b[0m \u001b[0my\u001b[0m\u001b[0;34m,\u001b[0m \u001b[0mstep_score\u001b[0m\u001b[0;34m=\u001b[0m\u001b[0;32mNone\u001b[0m\u001b[0;34m)\u001b[0m\u001b[0;34m:\u001b[0m\u001b[0;34m\u001b[0m\u001b[0;34m\u001b[0m\u001b[0m\n",
      "\u001b[0;32m/opt/anaconda3/lib/python3.8/site-packages/sklearn/feature_selection/_rfe.py\u001b[0m in \u001b[0;36m_fit\u001b[0;34m(self, X, y, step_score)\u001b[0m\n\u001b[1;32m    194\u001b[0m                 \u001b[0mprint\u001b[0m\u001b[0;34m(\u001b[0m\u001b[0;34m\"Fitting estimator with %d features.\"\u001b[0m \u001b[0;34m%\u001b[0m \u001b[0mnp\u001b[0m\u001b[0;34m.\u001b[0m\u001b[0msum\u001b[0m\u001b[0;34m(\u001b[0m\u001b[0msupport_\u001b[0m\u001b[0;34m)\u001b[0m\u001b[0;34m)\u001b[0m\u001b[0;34m\u001b[0m\u001b[0;34m\u001b[0m\u001b[0m\n\u001b[1;32m    195\u001b[0m \u001b[0;34m\u001b[0m\u001b[0m\n\u001b[0;32m--> 196\u001b[0;31m             \u001b[0mestimator\u001b[0m\u001b[0;34m.\u001b[0m\u001b[0mfit\u001b[0m\u001b[0;34m(\u001b[0m\u001b[0mX\u001b[0m\u001b[0;34m[\u001b[0m\u001b[0;34m:\u001b[0m\u001b[0;34m,\u001b[0m \u001b[0mfeatures\u001b[0m\u001b[0;34m]\u001b[0m\u001b[0;34m,\u001b[0m \u001b[0my\u001b[0m\u001b[0;34m)\u001b[0m\u001b[0;34m\u001b[0m\u001b[0;34m\u001b[0m\u001b[0m\n\u001b[0m\u001b[1;32m    197\u001b[0m \u001b[0;34m\u001b[0m\u001b[0m\n\u001b[1;32m    198\u001b[0m             \u001b[0;31m# Get coefs\u001b[0m\u001b[0;34m\u001b[0m\u001b[0;34m\u001b[0m\u001b[0;34m\u001b[0m\u001b[0m\n",
      "\u001b[0;32m/opt/anaconda3/lib/python3.8/site-packages/sklearn/linear_model/_base.py\u001b[0m in \u001b[0;36mfit\u001b[0;34m(self, X, y, sample_weight)\u001b[0m\n\u001b[1;32m    545\u001b[0m         \u001b[0;32melse\u001b[0m\u001b[0;34m:\u001b[0m\u001b[0;34m\u001b[0m\u001b[0;34m\u001b[0m\u001b[0m\n\u001b[1;32m    546\u001b[0m             \u001b[0mself\u001b[0m\u001b[0;34m.\u001b[0m\u001b[0mcoef_\u001b[0m\u001b[0;34m,\u001b[0m \u001b[0mself\u001b[0m\u001b[0;34m.\u001b[0m\u001b[0m_residues\u001b[0m\u001b[0;34m,\u001b[0m \u001b[0mself\u001b[0m\u001b[0;34m.\u001b[0m\u001b[0mrank_\u001b[0m\u001b[0;34m,\u001b[0m \u001b[0mself\u001b[0m\u001b[0;34m.\u001b[0m\u001b[0msingular_\u001b[0m \u001b[0;34m=\u001b[0m\u001b[0;31m \u001b[0m\u001b[0;31m\\\u001b[0m\u001b[0;34m\u001b[0m\u001b[0;34m\u001b[0m\u001b[0m\n\u001b[0;32m--> 547\u001b[0;31m                 \u001b[0mlinalg\u001b[0m\u001b[0;34m.\u001b[0m\u001b[0mlstsq\u001b[0m\u001b[0;34m(\u001b[0m\u001b[0mX\u001b[0m\u001b[0;34m,\u001b[0m \u001b[0my\u001b[0m\u001b[0;34m)\u001b[0m\u001b[0;34m\u001b[0m\u001b[0;34m\u001b[0m\u001b[0m\n\u001b[0m\u001b[1;32m    548\u001b[0m             \u001b[0mself\u001b[0m\u001b[0;34m.\u001b[0m\u001b[0mcoef_\u001b[0m \u001b[0;34m=\u001b[0m \u001b[0mself\u001b[0m\u001b[0;34m.\u001b[0m\u001b[0mcoef_\u001b[0m\u001b[0;34m.\u001b[0m\u001b[0mT\u001b[0m\u001b[0;34m\u001b[0m\u001b[0;34m\u001b[0m\u001b[0m\n\u001b[1;32m    549\u001b[0m \u001b[0;34m\u001b[0m\u001b[0m\n",
      "\u001b[0;32m/opt/anaconda3/lib/python3.8/site-packages/scipy/linalg/basic.py\u001b[0m in \u001b[0;36mlstsq\u001b[0;34m(a, b, cond, overwrite_a, overwrite_b, check_finite, lapack_driver)\u001b[0m\n\u001b[1;32m   1211\u001b[0m             \u001b[0;32mif\u001b[0m \u001b[0mreal_data\u001b[0m\u001b[0;34m:\u001b[0m\u001b[0;34m\u001b[0m\u001b[0;34m\u001b[0m\u001b[0m\n\u001b[1;32m   1212\u001b[0m                 \u001b[0mlwork\u001b[0m\u001b[0;34m,\u001b[0m \u001b[0miwork\u001b[0m \u001b[0;34m=\u001b[0m \u001b[0m_compute_lwork\u001b[0m\u001b[0;34m(\u001b[0m\u001b[0mlapack_lwork\u001b[0m\u001b[0;34m,\u001b[0m \u001b[0mm\u001b[0m\u001b[0;34m,\u001b[0m \u001b[0mn\u001b[0m\u001b[0;34m,\u001b[0m \u001b[0mnrhs\u001b[0m\u001b[0;34m,\u001b[0m \u001b[0mcond\u001b[0m\u001b[0;34m)\u001b[0m\u001b[0;34m\u001b[0m\u001b[0;34m\u001b[0m\u001b[0m\n\u001b[0;32m-> 1213\u001b[0;31m                 x, s, rank, info = lapack_func(a1, b1, lwork,\n\u001b[0m\u001b[1;32m   1214\u001b[0m                                                iwork, cond, False, False)\n\u001b[1;32m   1215\u001b[0m             \u001b[0;32melse\u001b[0m\u001b[0;34m:\u001b[0m  \u001b[0;31m# complex data\u001b[0m\u001b[0;34m\u001b[0m\u001b[0;34m\u001b[0m\u001b[0m\n",
      "\u001b[0;31mKeyboardInterrupt\u001b[0m: "
     ]
    }
   ],
   "source": [
    "# Create a linear regression model\n",
    "\n",
    "model = LinearRegression()\n",
    "model.fit(X, y)\n",
    "f_selector = RFE(model, n_features_to_select=0.2, step=1)\n",
    "f_selector.fit(X, y)\n",
    "print(f_selector.support_)"
   ]
  },
  {
   "cell_type": "code",
   "execution_count": null,
   "metadata": {},
   "outputs": [],
   "source": []
  }
 ],
 "metadata": {
  "interpreter": {
   "hash": "ced6549d3a1ee51955033392fc974df4478a5e2fa1a79b9acf4690fdc1643097"
  },
  "kernelspec": {
   "display_name": "Python 3",
   "language": "python",
   "name": "python3"
  },
  "language_info": {
   "codemirror_mode": {
    "name": "ipython",
    "version": 3
   },
   "file_extension": ".py",
   "mimetype": "text/x-python",
   "name": "python",
   "nbconvert_exporter": "python",
   "pygments_lexer": "ipython3",
   "version": "3.8.3"
  }
 },
 "nbformat": 4,
 "nbformat_minor": 2
}
