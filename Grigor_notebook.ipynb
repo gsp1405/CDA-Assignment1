{
 "cells": [
  {
   "cell_type": "code",
   "execution_count": 1,
   "metadata": {},
   "outputs": [],
   "source": [
    "# Imports\n",
    "import numpy as np\n",
    "import pandas as pd\n",
    "from sklearn.linear_model import LinearRegression\n",
    "from sklearn.feature_selection import RFE\n"
   ]
  },
  {
   "cell_type": "code",
   "execution_count": 99,
   "metadata": {},
   "outputs": [],
   "source": [
    "# Load data\n",
    "df = pd.read_excel(\"data/Realized Schedule 20210101-20220208.xlsx\")\n",
    "# Remove rows with missing values\n",
    "df.dropna(inplace=True)"
   ]
  },
  {
   "cell_type": "code",
   "execution_count": 100,
   "metadata": {},
   "outputs": [
    {
     "name": "stdout",
     "output_type": "stream",
     "text": [
      "Index(['SeatCapacity', 'Year', 'Month', 'Week', 'Day', 'Hour', 'AIR_AY',\n",
      "       'AIR_BJ', 'AIR_BT', 'AIR_BZ',\n",
      "       ...\n",
      "       'SECT_QA', 'SECT_SG', 'SECT_US', 'Monday', 'Tuesday', 'Wednesday',\n",
      "       'Thursday', 'Friday', 'Saturday', 'Sunday'],\n",
      "      dtype='object', length=353)\n",
      "(36768, 353)\n"
     ]
    }
   ],
   "source": [
    "# Extract features and targets\n",
    "X = df.drop([\"LoadFactor\"], axis=1)\n",
    "y = df.LoadFactor\n",
    "\n",
    "#Convert schedule time to different columns\n",
    "# Include month, year, day and weekday in the dataset\n",
    "X = pd.concat([X, pd.to_datetime(X.ScheduleTime).dt.year.rename(\"Year\")], axis=1)\n",
    "X = pd.concat([X, pd.to_datetime(X.ScheduleTime).dt.month.rename(\"Month\")], axis=1)\n",
    "X = pd.concat([X, pd.to_datetime(X.ScheduleTime).dt.isocalendar().week.rename(\"Week\")], axis=1)\n",
    "X = pd.concat([X, pd.to_datetime(X.ScheduleTime).dt.day.rename(\"Day\")], axis=1)\n",
    "X = pd.concat([X, pd.to_datetime(X.ScheduleTime).dt.weekday.rename(\"Weekday\")], axis=1)\n",
    "X = pd.concat([X, pd.to_datetime(X.ScheduleTime).dt.hour.rename(\"Hour\")], axis=1)\n",
    "\n",
    "# include dummy variables for categorical features\n",
    "cols = [\"Airline\", \"Destination\", \"FlightType\", \"Sector\"]\n",
    "col_prefix = [\"AIR\", \"DEST\", \"FLT\", \"SECT\"]\n",
    "weekdays = [\"Monday\", \"Tuesday\", \"Wednesday\", \"Thursday\", \"Friday\", \"Saturday\", \"Sunday\"]\n",
    "cols_to_drop = [\"FlightNumber\", \"AircraftType\", \"ScheduleTime\", \"Weekday\"]\n",
    "\n",
    "for i, col in enumerate(cols):\n",
    "    X = pd.concat([X, pd.get_dummies(X[col], prefix=col_prefix[i])], axis=1)\n",
    "\n",
    "weekday_df = pd.get_dummies(X.Weekday)\n",
    "weekday_df.columns = weekdays\n",
    "\n",
    "X = pd.concat([X, weekday_df], axis=1)\n",
    "\n",
    "X.drop(cols, axis=1, inplace=True)\n",
    "X.drop(cols_to_drop, axis=1, inplace=True)\n",
    "\n",
    "print(X.columns)\n",
    "print(X.shape)\n",
    "\n"
   ]
  },
  {
   "cell_type": "code",
   "execution_count": 101,
   "metadata": {},
   "outputs": [
    {
     "name": "stdout",
     "output_type": "stream",
     "text": [
      "[False False False False False False False False False  True False False\n",
      " False False False False  True False False  True  True  True False False\n",
      " False  True False False False False False False False False False False\n",
      " False False  True False  True False False False False False False False\n",
      " False False False  True False False False False False False False False\n",
      " False False False  True False False False False  True False False False\n",
      " False  True False  True False False False False False False False False\n",
      " False False False False False False False False False False False False\n",
      " False False False False False  True False False False False False  True\n",
      " False False False False False False False  True False False False False\n",
      "  True False False False False False False False False False False  True\n",
      " False False False False False False  True  True False  True False False\n",
      " False False False False False False False  True False  True False False\n",
      " False False False False False False False False False False False False\n",
      " False False False  True False False False False False False False False\n",
      " False  True  True False False False False False  True False False False\n",
      " False False False False False False False False False False False False\n",
      " False False False False False False False False False False False False\n",
      " False False False False  True False False False False False False False\n",
      " False False False  True  True False False False False False False False\n",
      " False  True False False False False False False False False  True False\n",
      " False False False False False False False False False False False False\n",
      " False False False False False False False  True False False False False\n",
      " False False False  True  True False  True False False  True  True False\n",
      " False False  True False  True False False  True False False False False\n",
      " False False False False False False  True False  True  True False False\n",
      "  True  True False False False False False False  True False False False\n",
      " False  True False False  True  True False  True  True  True  True False\n",
      "  True  True  True  True  True  True  True  True  True False  True  True\n",
      "  True  True  True  True  True]\n"
     ]
    }
   ],
   "source": [
    "# Create a linear regression model\n",
    "\n",
    "model = LinearRegression()\n",
    "model.fit(X, y)\n",
    "f_selector = RFE(model, n_features_to_select=0.2, step=1)\n",
    "f_selector.fit(X, y)\n",
    "print(f_selector.support_)"
   ]
  }
 ],
 "metadata": {
  "interpreter": {
   "hash": "ced6549d3a1ee51955033392fc974df4478a5e2fa1a79b9acf4690fdc1643097"
  },
  "kernelspec": {
   "display_name": "Python 3.9.1 ('Assignment1': venv)",
   "language": "python",
   "name": "python3"
  },
  "language_info": {
   "codemirror_mode": {
    "name": "ipython",
    "version": 3
   },
   "file_extension": ".py",
   "mimetype": "text/x-python",
   "name": "python",
   "nbconvert_exporter": "python",
   "pygments_lexer": "ipython3",
   "version": "3.9.1"
  },
  "orig_nbformat": 4
 },
 "nbformat": 4,
 "nbformat_minor": 2
}
