{
 "cells": [
  {
   "cell_type": "code",
   "execution_count": 1,
   "metadata": {},
   "outputs": [],
   "source": [
    "# Imports\n",
    "import numpy as np\n",
    "import pandas as pd\n",
    "import matplotlib.pyplot as plt\n",
    "import seaborn as sns\n",
    "import PyQt5\n",
    "from sklearn.linear_model import LinearRegression\n",
    "from sklearn.feature_selection import RFE\n",
    "from sklearn.model_selection import train_test_split\n",
    "from forward_selection import forward_selection\n",
    "\n",
    "%matplotlib qt\n"
   ]
  },
  {
   "cell_type": "code",
   "execution_count": 2,
   "metadata": {},
   "outputs": [
    {
     "name": "stdout",
     "output_type": "stream",
     "text": [
      "Index(['SeatCapacity', 'LoadFactor', 'Year', 'Month', 'Week', 'Day', 'Hour',\n",
      "       'AIR_AY', 'AIR_BJ', 'AIR_BT',\n",
      "       ...\n",
      "       'SECT_QA', 'SECT_SG', 'SECT_US', 'Monday', 'Tuesday', 'Wednesday',\n",
      "       'Thursday', 'Friday', 'Saturday', 'Sunday'],\n",
      "      dtype='object', length=353)\n",
      "(36767, 353)\n"
     ]
    }
   ],
   "source": [
    "# Load data\n",
    "data = pd.read_excel(\"data/Realized Schedule 20210101-20220208.xlsx\")\n",
    "\n",
    "#############################\n",
    "########Preprocessing########\n",
    "#############################\n",
    "\n",
    "# Remove rows with missing values\n",
    "df = data.dropna()\n",
    "\n",
    "# Remove row with flight type G\n",
    "df = df[df[\"FlightType\"] != \"G\"]\n",
    "\n",
    "#Convert schedule time to different columns\n",
    "# Include month, year, day and weekday in the dataset\n",
    "df = pd.concat([df, pd.to_datetime(df.ScheduleTime).dt.year.rename(\"Year\")], axis=1)\n",
    "df = pd.concat([df, pd.to_datetime(df.ScheduleTime).dt.month.rename(\"Month\")], axis=1)\n",
    "df = pd.concat([df, pd.to_datetime(df.ScheduleTime).dt.isocalendar().week.rename(\"Week\")], axis=1) # Remove isocalendar if error\n",
    "df = pd.concat([df, pd.to_datetime(df.ScheduleTime).dt.day.rename(\"Day\")], axis=1)\n",
    "df = pd.concat([df, pd.to_datetime(df.ScheduleTime).dt.weekday.rename(\"Weekday\")], axis=1)\n",
    "df = pd.concat([df, pd.to_datetime(df.ScheduleTime).dt.hour.rename(\"Hour\")], axis=1)\n",
    "\n",
    "# Include dummy variables for categorical features\n",
    "cols = [\"Airline\", \"Destination\", \"FlightType\", \"Sector\"]\n",
    "col_prefix = [\"AIR\", \"DEST\", \"FLT\", \"SECT\"]\n",
    "weekdays = [\"Monday\", \"Tuesday\", \"Wednesday\", \"Thursday\", \"Friday\", \"Saturday\", \"Sunday\"]\n",
    "cols_to_drop = [\"FlightNumber\", \"AircraftType\", \"ScheduleTime\", \"Weekday\"]\n",
    "\n",
    "for i, col in enumerate(cols):\n",
    "    df = pd.concat([df, pd.get_dummies(df[col], prefix=col_prefix[i])], axis=1)\n",
    "\n",
    "weekday_df = pd.get_dummies(df.Weekday)\n",
    "weekday_df.columns = weekdays\n",
    "\n",
    "df = pd.concat([df, weekday_df], axis=1)\n",
    "\n",
    "df.drop(cols, axis=1, inplace=True)\n",
    "df.drop(cols_to_drop, axis=1, inplace=True)\n",
    "\n",
    "print(df.columns)\n",
    "print(df.shape)\n",
    "\n"
   ]
  },
  {
   "cell_type": "code",
   "execution_count": 3,
   "metadata": {},
   "outputs": [],
   "source": [
    "#####################Visualizations############\n",
    "sector_count = data.groupby(by=\"Sector\").size()\n",
    "plt.bar(sector_count.index, sector_count)\n",
    "plt.show()\n"
   ]
  },
  {
   "cell_type": "code",
   "execution_count": 4,
   "metadata": {},
   "outputs": [],
   "source": [
    "\n",
    "sns.boxplot(x=\"Hour\", y=\"LoadFactor\", data=df)\n",
    "plt.show()\n",
    "\n"
   ]
  },
  {
   "cell_type": "code",
   "execution_count": 5,
   "metadata": {},
   "outputs": [],
   "source": [
    "plt.scatter(df[\"Hour\"], df[\"LoadFactor\"])\n",
    "plt.show()\n",
    "\n"
   ]
  },
  {
   "cell_type": "code",
   "execution_count": 6,
   "metadata": {},
   "outputs": [],
   "source": [
    "# Extract features and targets\n",
    "X = df.drop([\"LoadFactor\"], axis=1)\n",
    "y = df.LoadFactor\n",
    "\n",
    "# Perform train/val split\n",
    "X_train, X_val, y_train, y_val = train_test_split(X, y, test_size=0.25, random_state=1405)"
   ]
  },
  {
   "cell_type": "code",
   "execution_count": 7,
   "metadata": {},
   "outputs": [
    {
     "name": "stdout",
     "output_type": "stream",
     "text": [
      "Index(['AIR_DO', 'Month', 'FLT_C', 'AIR_SH', 'DEST_YXU', 'AIR_KL', 'DEST_YLW',\n",
      "       'AIR_SV', 'DEST_AIY', 'AIR_TN'],\n",
      "      dtype='object')\n"
     ]
    }
   ],
   "source": [
    "# Extract features using forward selection\n",
    "forward_selection_features = forward_selection(X_train, y_train, num_of_features=10)\n",
    "print(X_train.columns[forward_selection_features])"
   ]
  },
  {
   "cell_type": "code",
   "execution_count": 13,
   "metadata": {},
   "outputs": [
    {
     "name": "stdout",
     "output_type": "stream",
     "text": [
      "[0.30864124 0.66121278 0.67805668 0.64436889 0.26898887 0.5938372\n",
      " 0.54330552 0.38689613 0.38689613 0.66121278]\n",
      "[0.24381625 0.81666667 0.29166667 0.89417989 0.26666667 0.80555556\n",
      " 0.95       0.13333333 0.31111111 0.39583333]\n",
      "RMSE for forward selected model is: 0.22408462795270456\n",
      "Lengths:\n",
      " yhat: 9192, yval: 9192\n"
     ]
    },
    {
     "data": {
      "text/plain": [
       "[<matplotlib.lines.Line2D at 0x161b7d190d0>]"
      ]
     },
     "execution_count": 13,
     "metadata": {},
     "output_type": "execute_result"
    }
   ],
   "source": [
    "# Perform linear regression with the forward selected features\n",
    "X_forward_sel = X_train.iloc[:, forward_selection_features]\n",
    "X_val_sel = X_val.iloc[:, forward_selection_features]\n",
    "model = LinearRegression()\n",
    "model.fit(X_forward_sel, y_train)\n",
    "y_hat = model.predict(X_val_sel)\n",
    "print(y_hat[:10])\n",
    "print(y_val[:10].to_numpy())\n",
    "RMSE = np.sqrt(np.mean((y_hat - y_val)**2))\n",
    "print(f'RMSE for forward selected model is: {RMSE}')\n",
    "print(f'Lengths:\\nyhat: {len(y_hat)}, yval: {len(y_val)}')\n",
    "# Visualize the results\n",
    "plt.plot(y_val, 'bo')\n",
    "plt.plot(y_hat, 'go')\n"
   ]
  },
  {
   "cell_type": "code",
   "execution_count": null,
   "metadata": {},
   "outputs": [],
   "source": []
  },
  {
   "cell_type": "code",
   "execution_count": 9,
   "metadata": {},
   "outputs": [
    {
     "name": "stdout",
     "output_type": "stream",
     "text": [
      "Index(['AIR_DU', 'AIR_GX', 'AIR_KO', 'AIR_VD', 'DEST_AMS', 'DEST_AXX',\n",
      "       'DEST_FNK', 'DEST_SUD', 'DEST_ZNG', 'SECT_NL'],\n",
      "      dtype='object')\n"
     ]
    }
   ],
   "source": [
    "# Ectract features using backward selection\n",
    "model = LinearRegression()\n",
    "f_selector = RFE(model, n_features_to_select=10, step=1)\n",
    "f_selector.fit(X_train, y_train)\n",
    "print(X.columns[f_selector.support_])"
   ]
  },
  {
   "cell_type": "code",
   "execution_count": 14,
   "metadata": {},
   "outputs": [
    {
     "name": "stdout",
     "output_type": "stream",
     "text": [
      "Index(['AIR_DU', 'AIR_GX', 'AIR_KO', 'AIR_VD', 'DEST_AMS', 'DEST_AXX',\n",
      "       'DEST_FNK', 'DEST_SUD', 'DEST_ZNG', 'SECT_NL'],\n",
      "      dtype='object')\n",
      "[0.53122314 0.53122314 0.53122314 0.53122314 0.53122314 0.53122314\n",
      " 0.53122314 0.53122314 0.53122314 0.53122314]\n",
      "[0.24381625 0.81666667 0.29166667 0.89417989 0.26666667 0.80555556\n",
      " 0.95       0.13333333 0.31111111 0.39583333]\n",
      "RMSE for forward selected model is: 19236298143.204052\n",
      "Lengths:\n",
      "yhat: 9192, yval: 9192\n"
     ]
    }
   ],
   "source": [
    "backward_selected_features = X_train.columns[f_selector.support_]\n",
    "print(backward_selected_features)\n",
    "X_backward_sel = X_train.loc[:, backward_selected_features]\n",
    "X_val_sel = X_val.loc[:, backward_selected_features]\n",
    "model = LinearRegression()\n",
    "model.fit(X_backward_sel, y_train)\n",
    "y_hat = model.predict(X_val_sel)\n",
    "print(y_hat[:10])\n",
    "print(y_val[:10].to_numpy())\n",
    "RMSE = np.sqrt(np.mean((y_hat - y_val)**2))\n",
    "print(f'RMSE for forward selected model is: {RMSE}')\n",
    "print(f'Lengths:\\nyhat: {len(y_hat)}, yval: {len(y_val)}')\n",
    "\n",
    "\n"
   ]
  },
  {
   "cell_type": "code",
   "execution_count": null,
   "metadata": {},
   "outputs": [],
   "source": []
  }
 ],
 "metadata": {
  "interpreter": {
   "hash": "ced6549d3a1ee51955033392fc974df4478a5e2fa1a79b9acf4690fdc1643097"
  },
  "kernelspec": {
   "display_name": "Python 3.9.1 ('Assignment1': venv)",
   "language": "python",
   "name": "python3"
  },
  "language_info": {
   "codemirror_mode": {
    "name": "ipython",
    "version": 3
   },
   "file_extension": ".py",
   "mimetype": "text/x-python",
   "name": "python",
   "nbconvert_exporter": "python",
   "pygments_lexer": "ipython3",
   "version": "3.9.1"
  },
  "orig_nbformat": 4
 },
 "nbformat": 4,
 "nbformat_minor": 2
}
